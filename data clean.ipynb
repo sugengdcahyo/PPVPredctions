{
 "cells": [
  {
   "cell_type": "code",
   "execution_count": 1,
   "metadata": {},
   "outputs": [
    {
     "name": "stderr",
     "output_type": "stream",
     "text": [
      "Matplotlib is building the font cache; this may take a moment.\n"
     ]
    }
   ],
   "source": [
    "import pandas as pd\n",
    "import numpy as np\n",
    "from matplotlib import pyplot as plt"
   ]
  },
  {
   "cell_type": "code",
   "execution_count": 6,
   "metadata": {},
   "outputs": [],
   "source": [
    "df = pd.read_csv('./datasets/PPV.csv', sep=';')"
   ]
  },
  {
   "cell_type": "code",
   "execution_count": 63,
   "metadata": {},
   "outputs": [],
   "source": [
    "data_dict = df[:-1].to_dict('dict')"
   ]
  },
  {
   "cell_type": "code",
   "execution_count": 67,
   "metadata": {},
   "outputs": [
    {
     "data": {
      "text/plain": [
       "dict_keys(['Peledakan', 'Pengukuran', '( mtr )', '/delay', 'Trans', 'Freq', 'Vert', 'Freq.1', 'Long', 'Freq.2', 'PVS', 'PSPL'])"
      ]
     },
     "execution_count": 67,
     "metadata": {},
     "output_type": "execute_result"
    }
   ],
   "source": [
    "data_dict.keys()"
   ]
  },
  {
   "cell_type": "code",
   "execution_count": 79,
   "metadata": {},
   "outputs": [],
   "source": [
    "list_keys = list()\n",
    "for idx, temp in enumerate(data_dict.keys()):\n",
    "    list_keys.append(temp)"
   ]
  },
  {
   "cell_type": "code",
   "execution_count": 87,
   "metadata": {},
   "outputs": [
    {
     "data": {
      "text/html": [
       "<div>\n",
       "<style scoped>\n",
       "    .dataframe tbody tr th:only-of-type {\n",
       "        vertical-align: middle;\n",
       "    }\n",
       "\n",
       "    .dataframe tbody tr th {\n",
       "        vertical-align: top;\n",
       "    }\n",
       "\n",
       "    .dataframe thead th {\n",
       "        text-align: right;\n",
       "    }\n",
       "</style>\n",
       "<table border=\"1\" class=\"dataframe\">\n",
       "  <thead>\n",
       "    <tr style=\"text-align: right;\">\n",
       "      <th></th>\n",
       "      <th>Peledakan</th>\n",
       "      <th>Pengukuran</th>\n",
       "      <th>( mtr )</th>\n",
       "      <th>/delay</th>\n",
       "      <th>Trans</th>\n",
       "      <th>Freq</th>\n",
       "      <th>Vert</th>\n",
       "      <th>Freq.1</th>\n",
       "      <th>Long</th>\n",
       "      <th>Freq.2</th>\n",
       "      <th>PVS</th>\n",
       "      <th>PSPL</th>\n",
       "    </tr>\n",
       "  </thead>\n",
       "  <tbody>\n",
       "    <tr>\n",
       "      <th>0</th>\n",
       "      <td>II-16</td>\n",
       "      <td>OO-22</td>\n",
       "      <td>785.0</td>\n",
       "      <td>5,40</td>\n",
       "      <td>0,67</td>\n",
       "      <td>30,00</td>\n",
       "      <td>0,60</td>\n",
       "      <td>15,00</td>\n",
       "      <td>0,56</td>\n",
       "      <td>13,00</td>\n",
       "      <td>0,83</td>\n",
       "      <td>55,10</td>\n",
       "    </tr>\n",
       "    <tr>\n",
       "      <th>1</th>\n",
       "      <td>II-16</td>\n",
       "      <td>OO-22</td>\n",
       "      <td>785.0</td>\n",
       "      <td>5,40</td>\n",
       "      <td>0,58</td>\n",
       "      <td>27,00</td>\n",
       "      <td>0,32</td>\n",
       "      <td>18,00</td>\n",
       "      <td>0,27</td>\n",
       "      <td>22,00</td>\n",
       "      <td>0,64</td>\n",
       "      <td>59,60</td>\n",
       "    </tr>\n",
       "    <tr>\n",
       "      <th>2</th>\n",
       "      <td>II-16</td>\n",
       "      <td>OO-22</td>\n",
       "      <td>785.0</td>\n",
       "      <td>5,40</td>\n",
       "      <td>0,66</td>\n",
       "      <td>30,00</td>\n",
       "      <td>0,50</td>\n",
       "      <td>22,00</td>\n",
       "      <td>0,43</td>\n",
       "      <td>23,00</td>\n",
       "      <td>0,71</td>\n",
       "      <td>52,90</td>\n",
       "    </tr>\n",
       "    <tr>\n",
       "      <th>3</th>\n",
       "      <td>II-16</td>\n",
       "      <td>OO-22</td>\n",
       "      <td>785.0</td>\n",
       "      <td>5,40</td>\n",
       "      <td>0,65</td>\n",
       "      <td>22,00</td>\n",
       "      <td>0,56</td>\n",
       "      <td>19,00</td>\n",
       "      <td>0,58</td>\n",
       "      <td>17,00</td>\n",
       "      <td>0,79</td>\n",
       "      <td>53,60</td>\n",
       "    </tr>\n",
       "    <tr>\n",
       "      <th>4</th>\n",
       "      <td>II-16</td>\n",
       "      <td>OO-22</td>\n",
       "      <td>785.0</td>\n",
       "      <td>5,40</td>\n",
       "      <td>0,64</td>\n",
       "      <td>22,00</td>\n",
       "      <td>0,51</td>\n",
       "      <td>17,00</td>\n",
       "      <td>0,53</td>\n",
       "      <td>18,00</td>\n",
       "      <td>0,69</td>\n",
       "      <td>53,90</td>\n",
       "    </tr>\n",
       "  </tbody>\n",
       "</table>\n",
       "</div>"
      ],
      "text/plain": [
       "  Peledakan Pengukuran  ( mtr ) /delay Trans   Freq  Vert Freq.1  Long Freq.2  \\\n",
       "0     II-16      OO-22    785.0   5,40  0,67  30,00  0,60  15,00  0,56  13,00   \n",
       "1     II-16      OO-22    785.0   5,40  0,58  27,00  0,32  18,00  0,27  22,00   \n",
       "2     II-16      OO-22    785.0   5,40  0,66  30,00  0,50  22,00  0,43  23,00   \n",
       "3     II-16      OO-22    785.0   5,40  0,65  22,00  0,56  19,00  0,58  17,00   \n",
       "4     II-16      OO-22    785.0   5,40  0,64  22,00  0,51  17,00  0,53  18,00   \n",
       "\n",
       "    PVS   PSPL  \n",
       "0  0,83  55,10  \n",
       "1  0,64  59,60  \n",
       "2  0,71  52,90  \n",
       "3  0,79  53,60  \n",
       "4  0,69  53,90  "
      ]
     },
     "execution_count": 87,
     "metadata": {},
     "output_type": "execute_result"
    }
   ],
   "source": [
    "df.head()"
   ]
  }
 ],
 "metadata": {
  "kernelspec": {
   "display_name": "Python 3",
   "language": "python",
   "name": "python3"
  },
  "language_info": {
   "codemirror_mode": {
    "name": "ipython",
    "version": 3
   },
   "file_extension": ".py",
   "mimetype": "text/x-python",
   "name": "python",
   "nbconvert_exporter": "python",
   "pygments_lexer": "ipython3",
   "version": "3.8.2"
  }
 },
 "nbformat": 4,
 "nbformat_minor": 4
}
